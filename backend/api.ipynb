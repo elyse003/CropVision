{
 "cells": [
  {
   "cell_type": "code",
   "execution_count": 1,
   "id": "7f010622-e5bd-46c0-aa15-8b9672b0b9f9",
   "metadata": {},
   "outputs": [],
   "source": [
    "## Import libraries\n",
    "from fastapi import FastAPI\n",
    "from fastapi.middleware.cors import CORSMiddleware\n",
    "from pydantic import BaseModel, Field\n",
    "import joblib\n",
    "import numpy as np"
   ]
  },
  {
   "cell_type": "code",
   "execution_count": 2,
   "id": "bc280a51-b63e-45ed-bdd4-ac04ac2d79d2",
   "metadata": {},
   "outputs": [],
   "source": [
    "# Load model and scaler\n",
    "model = joblib.load(\"best_model.pkl\")\n",
    "scaler = joblib.load(\"scaler.pkl\")\n",
    "encoders = joblib.load(\"encoders.pkl\")"
   ]
  },
  {
   "cell_type": "code",
   "execution_count": 3,
   "id": "7de648ba-a605-45e4-afe6-2552efbdfb86",
   "metadata": {},
   "outputs": [],
   "source": [
    "# Input schema\n",
    "class CropInput(BaseModel):\n",
    "    soil_moisture: float = Field(..., ge=0, le=100)\n",
    "    soil_pH: float = Field(..., ge=3.0, le=9.0)\n",
    "    temperature: float\n",
    "    rainfall: float\n",
    "    humidity: float\n",
    "    sunlight_hours: float\n",
    "    irrigation_type: int\n",
    "    fertilizer_type: int\n",
    "    pesticide_usage: float\n",
    "    total_days: int\n",
    "    NDVI_index: float\n",
    "    crop_type: int\n",
    "    crop_disease_status: int"
   ]
  },
  {
   "cell_type": "code",
   "execution_count": 4,
   "id": "3008fa1f-ad2b-4ff1-9a0c-1999e55d32bd",
   "metadata": {},
   "outputs": [],
   "source": [
    "# FastAPI app\n",
    "app = FastAPI(title=\"Crop Yield Prediction API\")\n",
    "\n",
    "# CORS\n",
    "app.add_middleware(\n",
    "    CORSMiddleware,\n",
    "    allow_origins=[\"*\"],\n",
    "    allow_credentials=True,\n",
    "    allow_methods=[\"*\"],\n",
    "    allow_headers=[\"*\"],\n",
    ")\n",
    "\n",
    "@app.post(\"/predict\")\n",
    "def predict_crop_yield(data: CropInput):\n",
    "    features = np.array([[data.soil_moisture, data.soil_pH, data.temperature, data.rainfall,\n",
    "                          data.humidity, data.sunlight_hours, data.irrigation_type,\n",
    "                          data.fertilizer_type, data.pesticide_usage, data.total_days,\n",
    "                          data.NDVI_index, data.crop_type, data.crop_disease_status]])\n",
    "    \n",
    "    scaled = scaler.transform(features)\n",
    "    prediction = model.predict(scaled)\n",
    "    return {\"predicted_yield_kg_per_hectare\": round(prediction[0], 2)}"
   ]
  },
  {
   "cell_type": "code",
   "execution_count": null,
   "id": "f81ef241-2119-430f-ba23-8fc2c567a849",
   "metadata": {},
   "outputs": [],
   "source": []
  }
 ],
 "metadata": {
  "kernelspec": {
   "display_name": "Python 3 (ipykernel)",
   "language": "python",
   "name": "python3"
  },
  "language_info": {
   "codemirror_mode": {
    "name": "ipython",
    "version": 3
   },
   "file_extension": ".py",
   "mimetype": "text/x-python",
   "name": "python",
   "nbconvert_exporter": "python",
   "pygments_lexer": "ipython3",
   "version": "3.12.4"
  }
 },
 "nbformat": 4,
 "nbformat_minor": 5
}
